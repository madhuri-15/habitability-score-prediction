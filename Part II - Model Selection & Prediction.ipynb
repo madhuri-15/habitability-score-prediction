{
 "cells": [
  {
   "cell_type": "markdown",
   "id": "079e6428-e7fa-4f54-bb32-5b192868793a",
   "metadata": {},
   "source": [
    "# Habitability Score of House Predictions\n",
    "*(Part 2 - Model Evaulation)*"
   ]
  },
  {
   "cell_type": "code",
   "execution_count": 1,
   "id": "aa0d3c36-53ff-4c59-9c7e-bba8cf2c10f7",
   "metadata": {},
   "outputs": [],
   "source": [
    "# To ignore warnings\n",
    "from warnings import filterwarnings\n",
    "filterwarnings('ignore')\n",
    "\n",
    "# Import required libraries\n",
    "import pandas as pd\n",
    "import numpy as np\n",
    "\n",
    "# for data visualization\n",
    "import matplotlib.pyplot as plt\n",
    "import seaborn as sns\n",
    "%matplotlib inline\n",
    "\n",
    "# for model building\n",
    "from sklearn.linear_model import LinearRegression\n",
    "from sklearn.ensemble import RandomForestRegressor\n",
    "from sklearn.ensemble import GradientBoostingRegressor\n",
    "from sklearn.neighbors import KNeighborsRegressor\n",
    "from sklearn.svm import SVR\n",
    "from xgboost import XGBRegressor\n",
    "\n",
    "# for model evaluation\n",
    "from sklearn.metrics import r2_score\n",
    "from sklearn.metrics import mean_squared_error"
   ]
  },
  {
   "cell_type": "code",
   "execution_count": 2,
   "id": "068deebe-41d0-49c6-b0d1-f69068c0445f",
   "metadata": {},
   "outputs": [],
   "source": [
    "# Read CSV files\n",
    "def readCSV(x, y):\n",
    "    X = pd.read_csv(f'{x}.csv')\n",
    "    y = pd.read_csv(f'{y}.csv')['habitability_score']\n",
    "    return X, y\n",
    "\n",
    "# Read training data\n",
    "X, y = readCSV('X', 'y')\n",
    "\n",
    "# Read test data\n",
    "X_test, y_test = readCSV('X_test', 'y_test')"
   ]
  },
  {
   "cell_type": "markdown",
   "id": "4a51833f-9a20-4ba1-95d8-30ee820bd84c",
   "metadata": {},
   "source": [
    "### Model Selection\n",
    "\n",
    "- Baseline Model - Linear Regression"
   ]
  },
  {
   "cell_type": "code",
   "execution_count": 3,
   "id": "ab9b2997-210e-4ec2-8109-b0a88769c336",
   "metadata": {},
   "outputs": [],
   "source": [
    "def score(y_true, y_pred):\n",
    "    return max(0, 100*(r2_score(y_true, y_pred)))\n",
    "\n",
    "def fit_and_evaluate(model):\n",
    "    # Train a model\n",
    "    model.fit(X, y)\n",
    "    \n",
    "    # Make predictions and evaluate\n",
    "    predictions = model.predict(X)\n",
    "    model_score = score(y, predictions)\n",
    "    \n",
    "    # Returns the evaluation metrics\n",
    "    return model_score"
   ]
  },
  {
   "cell_type": "code",
   "execution_count": 4,
   "id": "26dfb097-2165-4ee8-b26e-a6a31862632c",
   "metadata": {},
   "outputs": [
    {
     "name": "stdout",
     "output_type": "stream",
     "text": [
      "Baseline model R2 Score:: 56.64\n"
     ]
    }
   ],
   "source": [
    "baseline_model = LinearRegression()\n",
    "baseline_score = fit_and_evaluate(baseline_model)\n",
    "print(f\"Baseline model R2 Score:: {baseline_score:.2f}\")"
   ]
  },
  {
   "cell_type": "markdown",
   "id": "c70d4669-96d4-4c13-a027-f471ff7bc870",
   "metadata": {},
   "source": [
    "#### Select & Train a model\n",
    "\n",
    "Train and evaluate multiple models on training data."
   ]
  },
  {
   "cell_type": "markdown",
   "id": "a66e9651-1ed8-42c2-a906-940cb3aeb1ca",
   "metadata": {},
   "source": [
    "- Random Forest Regression\n",
    "- Gradient Boosting Regression\n",
    "- Support Vector Machine Regression\n",
    "- K-nearest neighbors Regression\n",
    "- XGBRegressor"
   ]
  },
  {
   "cell_type": "code",
   "execution_count": 5,
   "id": "cba1eb72-dd16-4c3d-9ebb-0433523dc189",
   "metadata": {},
   "outputs": [
    {
     "name": "stdout",
     "output_type": "stream",
     "text": [
      "rf score: 97.91871976400664\n",
      "gb score: 80.90934191039109\n",
      "svr score: 86.62266495396189\n",
      "knn score: 83.01877879046506\n",
      "xgb score: 90.9318813179696\n"
     ]
    }
   ],
   "source": [
    "models = {\n",
    "    'rf': RandomForestRegressor(random_state=42),\n",
    "    'gb': GradientBoostingRegressor(random_state=42),\n",
    "    'svr': SVR(),\n",
    "    'knn': KNeighborsRegressor(),\n",
    "    'xgb': XGBRegressor(random_state=42)\n",
    "}\n",
    "model_scores = []\n",
    "\n",
    "for name, model in models.items():\n",
    "    model_score = fit_and_evaluate(model)\n",
    "    model_scores.append((name, model_score))\n",
    "    print(f\"{name} score: {model_score}\")"
   ]
  },
  {
   "cell_type": "code",
   "execution_count": 6,
   "id": "70684135-7736-4c26-8e5f-8a096416b8e7",
   "metadata": {},
   "outputs": [
    {
     "data": {
      "image/png": "[encoded data removed]",
      "text/plain": [
       "<Figure size 700x400 with 1 Axes>"
      ]
     },
     "metadata": {},
     "output_type": "display_data"
    }
   ],
   "source": [
    "models = ['RandomForest', 'GradientBoosting', 'SVR', 'KNN', 'XGB']\n",
    "model_performance_df = pd.DataFrame(data=model_scores, columns=['models', 'score'], index=models)\n",
    "\n",
    "# plot\n",
    "plt.figure(figsize=(7, 4))\n",
    "model_performance_df['score'].plot(kind='barh', width=0.7)\n",
    "\n",
    "plt.title(\"R2 score on training data\", size=10)\n",
    "plt.xlabel(\"Score\", size=10)\n",
    "plt.ylabel(\"Regressor\", size=10)\n",
    "\n",
    "plt.grid(ls=\"--\", c='b', alpha=0.2)\n",
    "plt.show()"
   ]
  },
  {
   "cell_type": "markdown",
   "id": "a94d26b2-fb3a-49a6-beb5-c8faeec03d90",
   "metadata": {},
   "source": [
    "We can see that the `RandomForestRegressor` perform better and returns highest score than other machine learning models and return almost 98% of accuracy on training data."
   ]
  },
  {
   "cell_type": "markdown",
   "id": "c64f4b49-73de-4981-9bfa-6d4993360799",
   "metadata": {},
   "source": [
    "#### Cross-validation\n",
    "We can't use test data until final selection of a model. So, for better valuation of model, Let's evaluate the model performance using Scikit-Learn's K-fold cross-validation feature.\n",
    "\n",
    "- The following code randomly splits the training dataset into 10 distinct subsets.\n",
    "- Then train and evaluate the model 10 times, and return average score."
   ]
  },
  {
   "cell_type": "code",
   "execution_count": 7,
   "id": "61bd3a24-8cc5-4e1f-910a-35251c277437",
   "metadata": {},
   "outputs": [
    {
     "name": "stdout",
     "output_type": "stream",
     "text": [
      "lr r2-score:: 56.36 +-1.72\n",
      "rf r2-score:: 84.93 +-0.87\n",
      "gb r2-score:: 79.98 +-0.83\n",
      "svr r2-score:: 82.67 +-0.87\n",
      "knn r2-score:: 73.08 +-1.82\n",
      "xgb r2-score:: 83.83 +-0.75\n"
     ]
    }
   ],
   "source": [
    "# Cross Validation\n",
    "from sklearn.model_selection import cross_val_score\n",
    "\n",
    "def cv_score(scores):\n",
    "    mean = max(0, 100*(scores.mean()))\n",
    "    std = max(0, 100*(scores.std()))\n",
    "    return mean, std\n",
    "\n",
    "\n",
    "models = {\n",
    "    'lr': LinearRegression(),\n",
    "    'rf': RandomForestRegressor(random_state=42),\n",
    "    'gb': GradientBoostingRegressor(random_state=42),\n",
    "    'svr': SVR(),\n",
    "    'knn': KNeighborsRegressor(),\n",
    "    'xgb': XGBRegressor(random_state=42)\n",
    "}\n",
    "\n",
    "model_scores = []\n",
    "for name, model in models.items():\n",
    "    scores = cross_val_score(model, \n",
    "                             X, \n",
    "                             y,\n",
    "                             scoring='r2',\n",
    "                             cv=10)\n",
    "    mean, std = cv_score(scores)\n",
    "    model_scores.append((name, round(mean, 2), round(std, 2)))\n",
    "    print(f\"{name} r2-score:: {mean:.2f} +-{std:.2f}\")"
   ]
  },
  {
   "cell_type": "markdown",
   "id": "f6fa48cc-d0c1-47bc-939b-af6a647fff5e",
   "metadata": {},
   "source": [
    "Overall model performance scores drop but top 3 models  `RandomForestRegressor`,  `XGBRegressor` and `SVR` have a very little difference in their scores. \n",
    "\n",
    "For now, Let's try to improve performance of the random forest algorithm which gives the highest r2 score of 84.94 with 0.88 standard deviation by tunning hyperparameter using searching algorithm."
   ]
  },
  {
   "cell_type": "markdown",
   "id": "4f3dcc15-7e3b-4515-9771-593a4b6bb533",
   "metadata": {},
   "source": [
    "### Model Optimization\n",
    "Using Scikit-learn searching algorithms - RandomSearchCV, GridSearchCV."
   ]
  },
  {
   "cell_type": "code",
   "execution_count": 8,
   "id": "61eb5260-2947-4fcf-b755-7c8706a3c772",
   "metadata": {},
   "outputs": [],
   "source": [
    "# Set up a Randomized search CV for 5-fold cross validation\n",
    "from sklearn.model_selection import RandomizedSearchCV\n",
    "\n",
    "def searchCV(model, parameterGrid):\n",
    "    \n",
    "    random_cv = RandomizedSearchCV(estimator = model,\n",
    "                                   param_distributions = parameterGrid,\n",
    "                                   n_iter = 25, \n",
    "                                   cv = 5,\n",
    "                                   scoring ='r2',\n",
    "                                   verbose = 1, \n",
    "                                   random_state = 42,\n",
    "                                   return_train_score = True)\n",
    "    # Fit on the training data\n",
    "    random_cv.fit(X, y)\n",
    "    return random_cv"
   ]
  },
  {
   "cell_type": "markdown",
   "id": "d6cc4522-bc9d-403b-9e04-c9b4e9d8ee0a",
   "metadata": {},
   "source": [
    "- Random Forest Regressor"
   ]
  },
  {
   "cell_type": "code",
   "execution_count": 9,
   "id": "92fe3bb1-a1ff-48a5-b2c4-7ef2ca7d4a54",
   "metadata": {},
   "outputs": [
    {
     "name": "stdout",
     "output_type": "stream",
     "text": [
      "Fitting 5 folds for each of 25 candidates, totalling 125 fits\n"
     ]
    }
   ],
   "source": [
    "# Number of trees\n",
    "n_estimators = [100, 200, 500, 800, 1000]\n",
    "\n",
    "# depth of the trees\n",
    "max_depth = [3, 5, 7, 9]\n",
    "\n",
    "# Minimum number of samples at splits\n",
    "min_samples_split = [10, 100, 1000]\n",
    "\n",
    "# Minimum number of sample at leaf\n",
    "min_samples_leaf = [1, 10, 100]\n",
    "\n",
    "# Hyperparameter grid\n",
    "hyperparameter_grid = {\n",
    "    'n_estimators' : n_estimators,\n",
    "    'max_depth': max_depth,\n",
    "    'min_samples_split': min_samples_split,\n",
    "    'min_samples_leaf': min_samples_leaf,\n",
    "}\n",
    "\n",
    "# define a model for hyperparameter tunning\n",
    "model = RandomForestRegressor(max_features='sqrt', n_jobs=-1, random_state=42)\n",
    "\n",
    "random_cv = searchCV(model, hyperparameter_grid)"
   ]
  },
  {
   "cell_type": "code",
   "execution_count": 10,
   "id": "07c17fc8-f065-4b70-b47b-b79ed5205262",
   "metadata": {},
   "outputs": [
    {
     "data": {
      "text/html": [
       "<div>\n",
       "<style scoped>\n",
       "    .dataframe tbody tr th:only-of-type {\n",
       "        vertical-align: middle;\n",
       "    }\n",
       "\n",
       "    .dataframe tbody tr th {\n",
       "        vertical-align: top;\n",
       "    }\n",
       "\n",
       "    .dataframe thead th {\n",
       "        text-align: right;\n",
       "    }\n",
       "</style>\n",
       "<table border=\"1\" class=\"dataframe\">\n",
       "  <thead>\n",
       "    <tr style=\"text-align: right;\">\n",
       "      <th></th>\n",
       "      <th>mean_fit_time</th>\n",
       "      <th>std_fit_time</th>\n",
       "      <th>mean_score_time</th>\n",
       "      <th>std_score_time</th>\n",
       "      <th>param_n_estimators</th>\n",
       "      <th>param_min_samples_split</th>\n",
       "      <th>param_min_samples_leaf</th>\n",
       "      <th>param_max_depth</th>\n",
       "      <th>params</th>\n",
       "      <th>split0_test_score</th>\n",
       "      <th>...</th>\n",
       "      <th>mean_test_score</th>\n",
       "      <th>std_test_score</th>\n",
       "      <th>rank_test_score</th>\n",
       "      <th>split0_train_score</th>\n",
       "      <th>split1_train_score</th>\n",
       "      <th>split2_train_score</th>\n",
       "      <th>split3_train_score</th>\n",
       "      <th>split4_train_score</th>\n",
       "      <th>mean_train_score</th>\n",
       "      <th>std_train_score</th>\n",
       "    </tr>\n",
       "  </thead>\n",
       "  <tbody>\n",
       "    <tr>\n",
       "      <th>2</th>\n",
       "      <td>7.422412</td>\n",
       "      <td>0.159021</td>\n",
       "      <td>0.399455</td>\n",
       "      <td>0.033237</td>\n",
       "      <td>800</td>\n",
       "      <td>10</td>\n",
       "      <td>10</td>\n",
       "      <td>9</td>\n",
       "      <td>{'n_estimators': 800, 'min_samples_split': 10,...</td>\n",
       "      <td>0.788821</td>\n",
       "      <td>...</td>\n",
       "      <td>0.790309</td>\n",
       "      <td>0.004431</td>\n",
       "      <td>1</td>\n",
       "      <td>0.806727</td>\n",
       "      <td>0.809098</td>\n",
       "      <td>0.806663</td>\n",
       "      <td>0.806837</td>\n",
       "      <td>0.807718</td>\n",
       "      <td>0.807409</td>\n",
       "      <td>0.000927</td>\n",
       "    </tr>\n",
       "    <tr>\n",
       "      <th>22</th>\n",
       "      <td>7.149554</td>\n",
       "      <td>0.148194</td>\n",
       "      <td>0.432724</td>\n",
       "      <td>0.100503</td>\n",
       "      <td>800</td>\n",
       "      <td>100</td>\n",
       "      <td>1</td>\n",
       "      <td>9</td>\n",
       "      <td>{'n_estimators': 800, 'min_samples_split': 100...</td>\n",
       "      <td>0.772080</td>\n",
       "      <td>...</td>\n",
       "      <td>0.772764</td>\n",
       "      <td>0.004162</td>\n",
       "      <td>2</td>\n",
       "      <td>0.785405</td>\n",
       "      <td>0.786057</td>\n",
       "      <td>0.783523</td>\n",
       "      <td>0.784834</td>\n",
       "      <td>0.786056</td>\n",
       "      <td>0.785175</td>\n",
       "      <td>0.000943</td>\n",
       "    </tr>\n",
       "    <tr>\n",
       "      <th>13</th>\n",
       "      <td>4.704004</td>\n",
       "      <td>0.095491</td>\n",
       "      <td>0.257447</td>\n",
       "      <td>0.007212</td>\n",
       "      <td>500</td>\n",
       "      <td>100</td>\n",
       "      <td>1</td>\n",
       "      <td>9</td>\n",
       "      <td>{'n_estimators': 500, 'min_samples_split': 100...</td>\n",
       "      <td>0.771831</td>\n",
       "      <td>...</td>\n",
       "      <td>0.772382</td>\n",
       "      <td>0.003762</td>\n",
       "      <td>3</td>\n",
       "      <td>0.785145</td>\n",
       "      <td>0.785401</td>\n",
       "      <td>0.783123</td>\n",
       "      <td>0.783561</td>\n",
       "      <td>0.786279</td>\n",
       "      <td>0.784702</td>\n",
       "      <td>0.001180</td>\n",
       "    </tr>\n",
       "    <tr>\n",
       "      <th>11</th>\n",
       "      <td>9.348293</td>\n",
       "      <td>0.113242</td>\n",
       "      <td>0.518251</td>\n",
       "      <td>0.020822</td>\n",
       "      <td>1000</td>\n",
       "      <td>100</td>\n",
       "      <td>10</td>\n",
       "      <td>9</td>\n",
       "      <td>{'n_estimators': 1000, 'min_samples_split': 10...</td>\n",
       "      <td>0.770286</td>\n",
       "      <td>...</td>\n",
       "      <td>0.771207</td>\n",
       "      <td>0.004438</td>\n",
       "      <td>4</td>\n",
       "      <td>0.782535</td>\n",
       "      <td>0.784048</td>\n",
       "      <td>0.781801</td>\n",
       "      <td>0.781495</td>\n",
       "      <td>0.783716</td>\n",
       "      <td>0.782719</td>\n",
       "      <td>0.001013</td>\n",
       "    </tr>\n",
       "    <tr>\n",
       "      <th>10</th>\n",
       "      <td>6.429294</td>\n",
       "      <td>0.103112</td>\n",
       "      <td>0.417455</td>\n",
       "      <td>0.062765</td>\n",
       "      <td>800</td>\n",
       "      <td>10</td>\n",
       "      <td>1</td>\n",
       "      <td>7</td>\n",
       "      <td>{'n_estimators': 800, 'min_samples_split': 10,...</td>\n",
       "      <td>0.744060</td>\n",
       "      <td>...</td>\n",
       "      <td>0.747486</td>\n",
       "      <td>0.004939</td>\n",
       "      <td>5</td>\n",
       "      <td>0.760251</td>\n",
       "      <td>0.763603</td>\n",
       "      <td>0.761138</td>\n",
       "      <td>0.761608</td>\n",
       "      <td>0.761734</td>\n",
       "      <td>0.761667</td>\n",
       "      <td>0.001099</td>\n",
       "    </tr>\n",
       "  </tbody>\n",
       "</table>\n",
       "<p>5 rows × 24 columns</p>\n",
       "</div>"
      ],
      "text/plain": [
       "    mean_fit_time  std_fit_time  mean_score_time  std_score_time  \\\n",
       "2        7.422412      0.159021         0.399455        0.033237   \n",
       "22       7.149554      0.148194         0.432724        0.100503   \n",
       "13       4.704004      0.095491         0.257447        0.007212   \n",
       "11       9.348293      0.113242         0.518251        0.020822   \n",
       "10       6.429294      0.103112         0.417455        0.062765   \n",
       "\n",
       "   param_n_estimators param_min_samples_split param_min_samples_leaf  \\\n",
       "2                 800                      10                     10   \n",
       "22                800                     100                      1   \n",
       "13                500                     100                      1   \n",
       "11               1000                     100                     10   \n",
       "10                800                      10                      1   \n",
       "\n",
       "   param_max_depth                                             params  \\\n",
       "2                9  {'n_estimators': 800, 'min_samples_split': 10,...   \n",
       "22               9  {'n_estimators': 800, 'min_samples_split': 100...   \n",
       "13               9  {'n_estimators': 500, 'min_samples_split': 100...   \n",
       "11               9  {'n_estimators': 1000, 'min_samples_split': 10...   \n",
       "10               7  {'n_estimators': 800, 'min_samples_split': 10,...   \n",
       "\n",
       "    split0_test_score  ...  mean_test_score  std_test_score  rank_test_score  \\\n",
       "2            0.788821  ...         0.790309        0.004431                1   \n",
       "22           0.772080  ...         0.772764        0.004162                2   \n",
       "13           0.771831  ...         0.772382        0.003762                3   \n",
       "11           0.770286  ...         0.771207        0.004438                4   \n",
       "10           0.744060  ...         0.747486        0.004939                5   \n",
       "\n",
       "    split0_train_score  split1_train_score  split2_train_score  \\\n",
       "2             0.806727            0.809098            0.806663   \n",
       "22            0.785405            0.786057            0.783523   \n",
       "13            0.785145            0.785401            0.783123   \n",
       "11            0.782535            0.784048            0.781801   \n",
       "10            0.760251            0.763603            0.761138   \n",
       "\n",
       "    split3_train_score  split4_train_score  mean_train_score  std_train_score  \n",
       "2             0.806837            0.807718          0.807409         0.000927  \n",
       "22            0.784834            0.786056          0.785175         0.000943  \n",
       "13            0.783561            0.786279          0.784702         0.001180  \n",
       "11            0.781495            0.783716          0.782719         0.001013  \n",
       "10            0.761608            0.761734          0.761667         0.001099  \n",
       "\n",
       "[5 rows x 24 columns]"
      ]
     },
     "execution_count": 10,
     "metadata": {},
     "output_type": "execute_result"
    }
   ],
   "source": [
    "pd.DataFrame(random_cv.cv_results_).sort_values(by=['mean_test_score'], ascending=False).head()"
   ]
  },
  {
   "cell_type": "code",
   "execution_count": 11,
   "id": "30062493-1af0-44ae-93ef-e82a0cf3bd68",
   "metadata": {},
   "outputs": [
    {
     "data": {
      "text/plain": [
       "RandomForestRegressor(max_depth=9, max_features='sqrt', min_samples_leaf=10,\n",
       "                      min_samples_split=10, n_estimators=800, n_jobs=-1,\n",
       "                      random_state=42)"
      ]
     },
     "execution_count": 11,
     "metadata": {},
     "output_type": "execute_result"
    }
   ],
   "source": [
    "random_cv.best_estimator_"
   ]
  },
  {
   "cell_type": "code",
   "execution_count": 12,
   "id": "0230f220-fbe3-4e26-8f53-b49ff92bbc8f",
   "metadata": {},
   "outputs": [
    {
     "name": "stdout",
     "output_type": "stream",
     "text": [
      "Best model score:: 79.15 +- 0.95\n"
     ]
    }
   ],
   "source": [
    "best_model = random_cv.best_estimator_\n",
    "scores = cross_val_score(best_model, \n",
    "                         X, \n",
    "                         y,\n",
    "                         scoring='r2',\n",
    "                         cv=10)\n",
    "mean, std = cv_score(scores)\n",
    "print(f\"Best model score:: {mean:.2f} +- {std:.2f}\")"
   ]
  },
  {
   "cell_type": "markdown",
   "id": "8e70a5cf-e9d2-457f-a09c-1898f5d53ad7",
   "metadata": {},
   "source": [
    "Unfortunately, the best model after hyperparameter tunning is less accurate than model with default parameter settings. \n",
    "\n",
    "Let's examine the model performance of `RandomForestRegressor` by keeping all other hyperparameters value and varing single parameter value and that is `n_estimators`. \n",
    "\n",
    "We will use grid search with grid that only has `n_estimators` hyperparamter. we will evaluate a range of trees then plot the training and testing performance to get an idea of what increasing number of trees does for our model."
   ]
  },
  {
   "cell_type": "code",
   "execution_count": 13,
   "id": "e9e4fdcb-e0af-4447-871a-d82a0865f319",
   "metadata": {},
   "outputs": [],
   "source": [
    "# Create a range of trees to evaluate\n",
    "from sklearn.model_selection import GridSearchCV\n",
    "\n",
    "tree_grid = {'n_estimators' : list(range(100, 1250, 50))}\n",
    "\n",
    "model = RandomForestRegressor(max_depth=9,\n",
    "                              max_features='sqrt',\n",
    "                              min_samples_split=10,\n",
    "                              n_jobs=-1, \n",
    "                              random_state=42)\n",
    "\n",
    "# Grid Search object using tree range and random forest model.\n",
    "grid_search = GridSearchCV(\n",
    "    estimator = model,\n",
    "    param_grid = tree_grid,\n",
    "    cv = 5, \n",
    "    scoring = 'r2',\n",
    "    verbose = 1,\n",
    "    n_jobs = -1,\n",
    "    return_train_score = True)"
   ]
  },
  {
   "cell_type": "code",
   "execution_count": 14,
   "id": "f1408ac1-2fde-40d2-b521-ed2f8bc5f4fa",
   "metadata": {},
   "outputs": [
    {
     "name": "stdout",
     "output_type": "stream",
     "text": [
      "Fitting 5 folds for each of 23 candidates, totalling 115 fits\n"
     ]
    },
    {
     "data": {
      "text/plain": [
       "GridSearchCV(cv=5,\n",
       "             estimator=RandomForestRegressor(max_depth=9, max_features='sqrt',\n",
       "                                             min_samples_split=10, n_jobs=-1,\n",
       "                                             random_state=42),\n",
       "             n_jobs=-1,\n",
       "             param_grid={'n_estimators': [100, 150, 200, 250, 300, 350, 400,\n",
       "                                          450, 500, 550, 600, 650, 700, 750,\n",
       "                                          800, 850, 900, 950, 1000, 1050, 1100,\n",
       "                                          1150, 1200]},\n",
       "             return_train_score=True, scoring='r2', verbose=1)"
      ]
     },
     "execution_count": 14,
     "metadata": {},
     "output_type": "execute_result"
    }
   ],
   "source": [
    "# Fit the grid search on training data\n",
    "grid_search.fit(X, y)"
   ]
  },
  {
   "cell_type": "code",
   "execution_count": 15,
   "id": "f6b009c3-9475-46db-b37a-63ce7997a68f",
   "metadata": {},
   "outputs": [
    {
     "data": {
      "image/png": "[encoded data removed]",
      "text/plain": [
       "<Figure size 700x400 with 1 Axes>"
      ]
     },
     "metadata": {},
     "output_type": "display_data"
    }
   ],
   "source": [
    "# Get the results into dataframe\n",
    "results = pd.DataFrame(grid_search.cv_results_)\n",
    "\n",
    "# plot the results\n",
    "plt.figure(figsize=(7, 4))\n",
    "\n",
    "sns.lineplot(data=results, x='param_n_estimators', y=results['mean_train_score'], lw=1, label='Train_score')\n",
    "sns.lineplot(data=results, x='param_n_estimators', y=results['mean_test_score'], lw=1, label='Test_score')\n",
    "\n",
    "plt.xlabel(\"Number of trees\", size=10)\n",
    "plt.ylabel(\"R2 score\", size=10)\n",
    "plt.title(\"Training Vs. Test score Vs. Number of trees\", size=10)\n",
    "\n",
    "plt.grid(ls=\"--\", c='b', alpha=0.3)\n",
    "plt.show()"
   ]
  },
  {
   "cell_type": "markdown",
   "id": "2d14d9d6-559c-4c5c-a23f-3a3dac12ba9a",
   "metadata": {},
   "source": [
    "From this plot, it's pretty clear that our model is overfitting! The training score is greater than the testing score, which shows that the model is learning the training data very well but then unable to generalize to the test data. \n",
    "\n",
    "We can see almost constant difference in training and testing score as number of trees increases. There will always be a difference between the training and testing scores (The training accuracy is always high) but if there is a significant difference, we want to try and reduce the overfitting, either by getting more training data or reducing the complexity of the model through hyperparameter tunning or regularization. \n",
    "\n",
    "For the random forest regressor, some options include reducing the number of trees, reducing the max depth of each tree, and increasing the minimum number of samples in a leaf node. For now, we will use the model with the best performance and accept that it may be overfitting to the training set.\n",
    "\n",
    "Based on the cross validation results, the best model using 450 trees can achieves a r2 score of appx 80. "
   ]
  },
  {
   "cell_type": "markdown",
   "id": "59fa22da-bb3f-4016-9fbb-71a208d0f879",
   "metadata": {},
   "source": [
    "- XGBRegressor"
   ]
  },
  {
   "cell_type": "code",
   "execution_count": 16,
   "id": "d3758ab0-c2f6-4cc0-a682-b1372aeb3ff8",
   "metadata": {},
   "outputs": [
    {
     "name": "stdout",
     "output_type": "stream",
     "text": [
      "Fitting 5 folds for each of 25 candidates, totalling 125 fits\n"
     ]
    }
   ],
   "source": [
    "# Hyperparameter grid\n",
    "hyperparameter_grid = {\n",
    "    'n_estimators' : list(range(100, 1200, 100)),\n",
    "    'max_depth': [3, 5, 7, 9],\n",
    "    'learning_rate': np.linspace(0.01, 0.10, 10)\n",
    "}\n",
    "\n",
    "# define a model for hyperparameter tunning\n",
    "xg_model = XGBRegressor(subsample=0.8, n_jobs=-1, random_state=42)\n",
    "xg_random_cv = searchCV(xg_model, hyperparameter_grid)"
   ]
  },
  {
   "cell_type": "code",
   "execution_count": 17,
   "id": "e95cb36a-fd59-400f-9232-5806ef501d23",
   "metadata": {},
   "outputs": [
    {
     "data": {
      "text/html": [
       "<div>\n",
       "<style scoped>\n",
       "    .dataframe tbody tr th:only-of-type {\n",
       "        vertical-align: middle;\n",
       "    }\n",
       "\n",
       "    .dataframe tbody tr th {\n",
       "        vertical-align: top;\n",
       "    }\n",
       "\n",
       "    .dataframe thead th {\n",
       "        text-align: right;\n",
       "    }\n",
       "</style>\n",
       "<table border=\"1\" class=\"dataframe\">\n",
       "  <thead>\n",
       "    <tr style=\"text-align: right;\">\n",
       "      <th></th>\n",
       "      <th>mean_fit_time</th>\n",
       "      <th>std_fit_time</th>\n",
       "      <th>mean_score_time</th>\n",
       "      <th>std_score_time</th>\n",
       "      <th>param_n_estimators</th>\n",
       "      <th>param_max_depth</th>\n",
       "      <th>param_learning_rate</th>\n",
       "      <th>params</th>\n",
       "      <th>split0_test_score</th>\n",
       "      <th>split1_test_score</th>\n",
       "      <th>...</th>\n",
       "      <th>mean_test_score</th>\n",
       "      <th>std_test_score</th>\n",
       "      <th>rank_test_score</th>\n",
       "      <th>split0_train_score</th>\n",
       "      <th>split1_train_score</th>\n",
       "      <th>split2_train_score</th>\n",
       "      <th>split3_train_score</th>\n",
       "      <th>split4_train_score</th>\n",
       "      <th>mean_train_score</th>\n",
       "      <th>std_train_score</th>\n",
       "    </tr>\n",
       "  </thead>\n",
       "  <tbody>\n",
       "    <tr>\n",
       "      <th>7</th>\n",
       "      <td>31.507352</td>\n",
       "      <td>0.958232</td>\n",
       "      <td>0.122755</td>\n",
       "      <td>0.013507</td>\n",
       "      <td>600</td>\n",
       "      <td>9</td>\n",
       "      <td>0.02</td>\n",
       "      <td>{'n_estimators': 600, 'max_depth': 9, 'learnin...</td>\n",
       "      <td>0.855250</td>\n",
       "      <td>0.851627</td>\n",
       "      <td>...</td>\n",
       "      <td>0.852520</td>\n",
       "      <td>0.002646</td>\n",
       "      <td>1</td>\n",
       "      <td>0.941269</td>\n",
       "      <td>0.942150</td>\n",
       "      <td>0.940641</td>\n",
       "      <td>0.941498</td>\n",
       "      <td>0.940542</td>\n",
       "      <td>0.941220</td>\n",
       "      <td>0.000590</td>\n",
       "    </tr>\n",
       "    <tr>\n",
       "      <th>18</th>\n",
       "      <td>32.095659</td>\n",
       "      <td>1.256006</td>\n",
       "      <td>0.107141</td>\n",
       "      <td>0.007264</td>\n",
       "      <td>800</td>\n",
       "      <td>7</td>\n",
       "      <td>0.02</td>\n",
       "      <td>{'n_estimators': 800, 'max_depth': 7, 'learnin...</td>\n",
       "      <td>0.851714</td>\n",
       "      <td>0.848978</td>\n",
       "      <td>...</td>\n",
       "      <td>0.849581</td>\n",
       "      <td>0.002611</td>\n",
       "      <td>2</td>\n",
       "      <td>0.918530</td>\n",
       "      <td>0.919521</td>\n",
       "      <td>0.918360</td>\n",
       "      <td>0.918945</td>\n",
       "      <td>0.918358</td>\n",
       "      <td>0.918743</td>\n",
       "      <td>0.000444</td>\n",
       "    </tr>\n",
       "    <tr>\n",
       "      <th>11</th>\n",
       "      <td>38.824303</td>\n",
       "      <td>0.494045</td>\n",
       "      <td>0.128463</td>\n",
       "      <td>0.006212</td>\n",
       "      <td>1000</td>\n",
       "      <td>7</td>\n",
       "      <td>0.02</td>\n",
       "      <td>{'n_estimators': 1000, 'max_depth': 7, 'learni...</td>\n",
       "      <td>0.851151</td>\n",
       "      <td>0.848957</td>\n",
       "      <td>...</td>\n",
       "      <td>0.849413</td>\n",
       "      <td>0.002550</td>\n",
       "      <td>3</td>\n",
       "      <td>0.927909</td>\n",
       "      <td>0.928548</td>\n",
       "      <td>0.927696</td>\n",
       "      <td>0.928416</td>\n",
       "      <td>0.928042</td>\n",
       "      <td>0.928122</td>\n",
       "      <td>0.000317</td>\n",
       "    </tr>\n",
       "    <tr>\n",
       "      <th>15</th>\n",
       "      <td>42.738189</td>\n",
       "      <td>1.249072</td>\n",
       "      <td>0.176871</td>\n",
       "      <td>0.069932</td>\n",
       "      <td>1100</td>\n",
       "      <td>7</td>\n",
       "      <td>0.02</td>\n",
       "      <td>{'n_estimators': 1100, 'max_depth': 7, 'learni...</td>\n",
       "      <td>0.850850</td>\n",
       "      <td>0.848771</td>\n",
       "      <td>...</td>\n",
       "      <td>0.849184</td>\n",
       "      <td>0.002578</td>\n",
       "      <td>4</td>\n",
       "      <td>0.932051</td>\n",
       "      <td>0.932636</td>\n",
       "      <td>0.931693</td>\n",
       "      <td>0.932260</td>\n",
       "      <td>0.932220</td>\n",
       "      <td>0.932172</td>\n",
       "      <td>0.000307</td>\n",
       "    </tr>\n",
       "    <tr>\n",
       "      <th>3</th>\n",
       "      <td>16.864197</td>\n",
       "      <td>0.264541</td>\n",
       "      <td>0.061558</td>\n",
       "      <td>0.006683</td>\n",
       "      <td>300</td>\n",
       "      <td>9</td>\n",
       "      <td>0.06</td>\n",
       "      <td>{'n_estimators': 300, 'max_depth': 9, 'learnin...</td>\n",
       "      <td>0.850568</td>\n",
       "      <td>0.847730</td>\n",
       "      <td>...</td>\n",
       "      <td>0.849070</td>\n",
       "      <td>0.001885</td>\n",
       "      <td>5</td>\n",
       "      <td>0.961358</td>\n",
       "      <td>0.961178</td>\n",
       "      <td>0.959342</td>\n",
       "      <td>0.960283</td>\n",
       "      <td>0.959384</td>\n",
       "      <td>0.960309</td>\n",
       "      <td>0.000854</td>\n",
       "    </tr>\n",
       "  </tbody>\n",
       "</table>\n",
       "<p>5 rows × 23 columns</p>\n",
       "</div>"
      ],
      "text/plain": [
       "    mean_fit_time  std_fit_time  mean_score_time  std_score_time  \\\n",
       "7       31.507352      0.958232         0.122755        0.013507   \n",
       "18      32.095659      1.256006         0.107141        0.007264   \n",
       "11      38.824303      0.494045         0.128463        0.006212   \n",
       "15      42.738189      1.249072         0.176871        0.069932   \n",
       "3       16.864197      0.264541         0.061558        0.006683   \n",
       "\n",
       "   param_n_estimators param_max_depth param_learning_rate  \\\n",
       "7                 600               9                0.02   \n",
       "18                800               7                0.02   \n",
       "11               1000               7                0.02   \n",
       "15               1100               7                0.02   \n",
       "3                 300               9                0.06   \n",
       "\n",
       "                                               params  split0_test_score  \\\n",
       "7   {'n_estimators': 600, 'max_depth': 9, 'learnin...           0.855250   \n",
       "18  {'n_estimators': 800, 'max_depth': 7, 'learnin...           0.851714   \n",
       "11  {'n_estimators': 1000, 'max_depth': 7, 'learni...           0.851151   \n",
       "15  {'n_estimators': 1100, 'max_depth': 7, 'learni...           0.850850   \n",
       "3   {'n_estimators': 300, 'max_depth': 9, 'learnin...           0.850568   \n",
       "\n",
       "    split1_test_score  ...  mean_test_score  std_test_score  rank_test_score  \\\n",
       "7            0.851627  ...         0.852520        0.002646                1   \n",
       "18           0.848978  ...         0.849581        0.002611                2   \n",
       "11           0.848957  ...         0.849413        0.002550                3   \n",
       "15           0.848771  ...         0.849184        0.002578                4   \n",
       "3            0.847730  ...         0.849070        0.001885                5   \n",
       "\n",
       "    split0_train_score  split1_train_score  split2_train_score  \\\n",
       "7             0.941269            0.942150            0.940641   \n",
       "18            0.918530            0.919521            0.918360   \n",
       "11            0.927909            0.928548            0.927696   \n",
       "15            0.932051            0.932636            0.931693   \n",
       "3             0.961358            0.961178            0.959342   \n",
       "\n",
       "    split3_train_score  split4_train_score  mean_train_score  std_train_score  \n",
       "7             0.941498            0.940542          0.941220         0.000590  \n",
       "18            0.918945            0.918358          0.918743         0.000444  \n",
       "11            0.928416            0.928042          0.928122         0.000317  \n",
       "15            0.932260            0.932220          0.932172         0.000307  \n",
       "3             0.960283            0.959384          0.960309         0.000854  \n",
       "\n",
       "[5 rows x 23 columns]"
      ]
     },
     "execution_count": 17,
     "metadata": {},
     "output_type": "execute_result"
    }
   ],
   "source": [
    "pd.DataFrame(xg_random_cv.cv_results_).sort_values(by=['mean_test_score'], ascending=False).head()"
   ]
  },
  {
   "cell_type": "code",
   "execution_count": 18,
   "id": "ea151397-88ae-49da-8589-22c95a11e681",
   "metadata": {},
   "outputs": [
    {
     "name": "stdout",
     "output_type": "stream",
     "text": [
      "Best model score:: 79.15 +- 0.95\n"
     ]
    }
   ],
   "source": [
    "xg_best_model = xg_random_cv.best_estimator_\n",
    "scores = cross_val_score(best_model, \n",
    "                         X, \n",
    "                         y,\n",
    "                         scoring='r2',\n",
    "                         cv=10)\n",
    "mean, std = cv_score(scores)\n",
    "print(f\"Best model score:: {mean:.2f} +- {std:.2f}\")"
   ]
  },
  {
   "cell_type": "code",
   "execution_count": 23,
   "id": "0b71b7c9-53a0-4b1b-a44a-c6ce0b33b99e",
   "metadata": {},
   "outputs": [],
   "source": [
    "import pickle\n",
    "output_file = 'search_cv.bin'\n",
    "with open(output_file, 'wb') as f:\n",
    "    pickle.dump((random_cv, grid_search, xg_random_cv), f)\n",
    "\n",
    "xg_best_model = xg_random_cv.best_estimator_\n",
    "with open('xg_model.bin', 'wb') as f:\n",
    "    pickle.dump(xg_best_model, f)"
   ]
  },
  {
   "cell_type": "markdown",
   "id": "30b68184-8a7d-4854-a8e5-237fc32231a9",
   "metadata": {},
   "source": [
    "### Evaluate Final Model on the Test Set.\n"
   ]
  },
  {
   "cell_type": "code",
   "execution_count": 30,
   "id": "6b7e535c-38ee-4ed3-839f-469c39c7fda1",
   "metadata": {},
   "outputs": [
    {
     "data": {
      "text/plain": [
       "XGBRegressor(base_score=0.5, booster='gbtree', colsample_bylevel=1,\n",
       "             colsample_bynode=1, colsample_bytree=1, enable_categorical=False,\n",
       "             gamma=0, gpu_id=-1, importance_type=None,\n",
       "             interaction_constraints='', learning_rate=0.020000000000000004,\n",
       "             max_delta_step=0, max_depth=9, min_child_weight=1, missing=nan,\n",
       "             monotone_constraints='()', n_estimators=600, n_jobs=-1,\n",
       "             num_parallel_tree=1, predictor='auto', random_state=42,\n",
       "             reg_alpha=0, reg_lambda=1, scale_pos_weight=1, subsample=0.8,\n",
       "             tree_method='exact', validate_parameters=1, verbosity=None)"
      ]
     },
     "execution_count": 30,
     "metadata": {},
     "output_type": "execute_result"
    }
   ],
   "source": [
    "# default model\n",
    "default_model = XGBRegressor(random_state=42)\n",
    "\n",
    "# select the best model\n",
    "final_model = xg_random_cv.best_estimator_\n",
    "final_model"
   ]
  },
  {
   "cell_type": "code",
   "execution_count": 31,
   "id": "b089ebb5-8c70-4730-8dd1-77728012b310",
   "metadata": {},
   "outputs": [
    {
     "name": "stdout",
     "output_type": "stream",
     "text": [
      "3.67 s ± 156 ms per loop (mean ± std. dev. of 5 runs, 1 loop each)\n"
     ]
    }
   ],
   "source": [
    "%%timeit -n 1 -r 5\n",
    "default_model.fit(X, y)"
   ]
  },
  {
   "cell_type": "code",
   "execution_count": 24,
   "id": "6e83132a-4d71-4969-bd9e-84de2ecc714b",
   "metadata": {},
   "outputs": [
    {
     "name": "stdout",
     "output_type": "stream",
     "text": [
      "4.97 s ± 115 ms per loop (mean ± std. dev. of 5 runs, 1 loop each)\n"
     ]
    }
   ],
   "source": [
    "%%timeit -n 1 -r 5\n",
    "final_model.fit(X, y)"
   ]
  },
  {
   "cell_type": "code",
   "execution_count": 32,
   "id": "91fc5dfb-13de-481d-9498-e643c140c753",
   "metadata": {},
   "outputs": [
    {
     "name": "stdout",
     "output_type": "stream",
     "text": [
      "Default model performance on test data:: 82.872\n",
      "Final model performance on test data:: 84.483\n"
     ]
    }
   ],
   "source": [
    "# make predictions\n",
    "default_preds = default_model.predict(X_test)\n",
    "final_preds = final_model.predict(X_test)\n",
    "\n",
    "print(\"Default model performance on test data:: %.3f\" %max(0, 100*(r2_score(y_test, default_preds))))\n",
    "print(\"Final model performance on test data:: %.3f\" %max(0, 100*(r2_score(y_test, final_preds))))"
   ]
  },
  {
   "cell_type": "code",
   "execution_count": 33,
   "id": "20d80fdc-6978-49f5-aa96-09f54cfa8faf",
   "metadata": {},
   "outputs": [
    {
     "data": {
      "image/png": "[encoded data removed]",
      "text/plain": [
       "<Figure size 700x400 with 1 Axes>"
      ]
     },
     "metadata": {},
     "output_type": "display_data"
    }
   ],
   "source": [
    "# Density plot for final predictions and test data\n",
    "plt.figure(figsize=(7, 4))\n",
    "\n",
    "sns.kdeplot(np.expm1(y_test), lw=1, label='y_true')\n",
    "sns.kdeplot(np.expm1(final_preds), lw=1, label='y_preds')\n",
    "\n",
    "plt.xlabel(\"Habitability score\", size=10)\n",
    "plt.title(\"Predictions Vs. Test data\", size=10)\n",
    "\n",
    "plt.legend()\n",
    "plt.grid(ls='--', c='b', alpha=0.3)\n",
    "plt.show()"
   ]
  },
  {
   "cell_type": "markdown",
   "id": "cc189e59-68d7-4105-be69-2e40bf492b69",
   "metadata": {},
   "source": [
    "The distribution looks to be nearly the same. Another diagonostic plot is a histogram of the residuals, ideally, we would hope that the residual are normally distributed meaning that the model is wrong the same amount in both direction (high and low)."
   ]
  },
  {
   "cell_type": "code",
   "execution_count": 36,
   "id": "539185d4-7f77-4f7d-a035-847960181f45",
   "metadata": {},
   "outputs": [
    {
     "data": {
      "image/png": "[encoded data removed]",
      "text/plain": [
       "<Figure size 700x400 with 1 Axes>"
      ]
     },
     "metadata": {},
     "output_type": "display_data"
    }
   ],
   "source": [
    "plt.figure(figsize=(7, 4))\n",
    "\n",
    "# Calculate the residuals\n",
    "residuals = final_preds - y_test\n",
    "\n",
    "# Plot the residuals in a histogram\n",
    "plt.hist(residuals, bins=32, edgecolor='b')\n",
    "\n",
    "plt.xlabel('Error')\n",
    "plt.ylabel('count')\n",
    "plt.title('Distribution of Residuals', size=10)\n",
    "\n",
    "plt.grid(c='#000', ls='--', alpha=0.2)\n",
    "plt.show()"
   ]
  },
  {
   "cell_type": "markdown",
   "id": "186be79f",
   "metadata": {},
   "source": [
    "The residuals are normally distributed with a few noticeable outliers on the both ends. This indicate errors where the model estimate was far below or above that of the true value."
   ]
  }
 ],
 "metadata": {
  "kernelspec": {
   "display_name": "saturn (Python 3)",
   "language": "python",
   "name": "python3"
  },
  "language_info": {
   "codemirror_mode": {
    "name": "ipython",
    "version": 3
   },
   "file_extension": ".py",
   "mimetype": "text/x-python",
   "name": "python",
   "nbconvert_exporter": "python",
   "pygments_lexer": "ipython3",
   "version": "3.9.15"
  }
 },
 "nbformat": 4,
 "nbformat_minor": 5
}
